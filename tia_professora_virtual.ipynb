{
  "nbformat": 4,
  "nbformat_minor": 0,
  "metadata": {
    "colab": {
      "provenance": [],
      "authorship_tag": "ABX9TyOxOyrrFJ+ZsJQN+mXR2Mpw",
      "include_colab_link": true
    },
    "kernelspec": {
      "name": "python3",
      "display_name": "Python 3"
    },
    "language_info": {
      "name": "python"
    }
  },
  "cells": [
    {
      "cell_type": "markdown",
      "metadata": {
        "id": "view-in-github",
        "colab_type": "text"
      },
      "source": [
        "<a href=\"https://colab.research.google.com/github/naandogaspar/imersao-ia/blob/main/tia_professora_virtual.ipynb\" target=\"_parent\"><img src=\"https://colab.research.google.com/assets/colab-badge.svg\" alt=\"Open In Colab\"/></a>"
      ]
    },
    {
      "cell_type": "markdown",
      "source": [
        "Instalando o SDK do Google"
      ],
      "metadata": {
        "id": "9YEszhBuco10"
      }
    },
    {
      "cell_type": "code",
      "source": [
        "!pip install -q -U google-generativeai"
      ],
      "metadata": {
        "id": "rCftMOAucsaX"
      },
      "execution_count": null,
      "outputs": []
    },
    {
      "cell_type": "markdown",
      "source": [
        "Importando a biblioteca\n",
        "\n",
        "\n"
      ],
      "metadata": {
        "id": "EddsGrqlceAF"
      }
    },
    {
      "cell_type": "code",
      "execution_count": null,
      "metadata": {
        "id": "1EK4-h9AccMb"
      },
      "outputs": [],
      "source": [
        "import google.generativeai as genai"
      ]
    },
    {
      "cell_type": "markdown",
      "source": [
        "Configurando a chave api_key"
      ],
      "metadata": {
        "id": "qOn2Bhj5c_bl"
      }
    },
    {
      "cell_type": "code",
      "source": [
        "from google.colab import userdata\n",
        "api_key = userdata.get(\"SECRET_KEY\")\n",
        "genai.configure(api_key=api_key)"
      ],
      "metadata": {
        "id": "m0J4zVCKdESB"
      },
      "execution_count": null,
      "outputs": []
    },
    {
      "cell_type": "markdown",
      "source": [
        "Instruções e configuração"
      ],
      "metadata": {
        "id": "TGxKQVdhdOBf"
      }
    },
    {
      "cell_type": "code",
      "source": [
        "system_instruction = \"Voce esta no brasil e uma professora do ensino fundamental que vai interagir com criancas de 5 a 15 anos, voce ensina as seguintes materias, portugues gramatica, matematica, geografia e historia do brasil, voce deve falar e responder de forma divertida e so pode reponder sobre questoes das materias que voce ensina, qualquer outro assunto que nao seja relacionado a isso voce deve informar que seu objetivo e ajudar o aluno a estudar, o aluno pode pedir para que voce faca algumas perguntas, nesse caso sempre que fizer uma pergunta termine com a frase 'qual e a resposta?'\"\n",
        "\n",
        "generation_config = {\n",
        "    'candidate_count': 1,\n",
        "    'temperature': 0.5\n",
        "}\n",
        "\n",
        "safety_settings = [\n",
        "  {\n",
        "    \"category\": \"HARM_CATEGORY_HARASSMENT\",\n",
        "    \"threshold\": \"BLOCK_LOW_AND_ABOVE\"\n",
        "  },\n",
        "  {\n",
        "    \"category\": \"HARM_CATEGORY_HATE_SPEECH\",\n",
        "    \"threshold\": \"BLOCK_LOW_AND_ABOVE\"\n",
        "  },\n",
        "  {\n",
        "    \"category\": \"HARM_CATEGORY_SEXUALLY_EXPLICIT\",\n",
        "    \"threshold\": \"BLOCK_LOW_AND_ABOVE\"\n",
        "  },\n",
        "  {\n",
        "    \"category\": \"HARM_CATEGORY_DANGEROUS_CONTENT\",\n",
        "    \"threshold\": \"BLOCK_LOW_AND_ABOVE\"\n",
        "  },\n",
        "]"
      ],
      "metadata": {
        "id": "pQkcsUsUdVoT"
      },
      "execution_count": null,
      "outputs": []
    },
    {
      "cell_type": "markdown",
      "source": [
        "Definindo variaveis para receber o nome do usuario e nome do modelo"
      ],
      "metadata": {
        "id": "jaPxmBOddfcC"
      }
    },
    {
      "cell_type": "code",
      "source": [
        "usuario = \"\"\n",
        "model_name = \"gemini-1.5-pro-latest\""
      ],
      "metadata": {
        "id": "LPqFT98rdjH7"
      },
      "execution_count": null,
      "outputs": []
    },
    {
      "cell_type": "markdown",
      "source": [
        "Criando o modelo"
      ],
      "metadata": {
        "id": "MQuD-9y-d-_o"
      }
    },
    {
      "cell_type": "code",
      "source": [
        "model = genai.GenerativeModel(model_name=model_name, system_instruction=system_instruction, generation_config=generation_config,safety_settings=safety_settings)"
      ],
      "metadata": {
        "id": "x6wj0HJ9dk4B"
      },
      "execution_count": null,
      "outputs": []
    },
    {
      "cell_type": "markdown",
      "source": [
        "Criando o chat"
      ],
      "metadata": {
        "id": "vaNKSyjteJKp"
      }
    },
    {
      "cell_type": "code",
      "source": [
        "chat = model.start_chat(history=[])"
      ],
      "metadata": {
        "id": "iJ_0dMJQeBNc"
      },
      "execution_count": null,
      "outputs": []
    },
    {
      "cell_type": "markdown",
      "source": [
        "Inicialização do chat"
      ],
      "metadata": {
        "id": "rNEHtq3HfWgr"
      }
    },
    {
      "cell_type": "code",
      "source": [
        "prompt = input(\"\\nOla, seja muito bem vindo!\\n\\nEu sou a T.IA sua professora virtual, eu vou te auxilar nas materias de portugues, matematica, historia e geografia e tambem posso te fazer perguntas para testar o seu conhecimento.\\n\\nPra gente iniciar primeiro me fale o seu nome:\\n\\n\")\n",
        "usuario = chat.send_message(prompt)\n",
        "\n",
        "prompt = input(\"\\nLegal, e como eu posso te ajudar hoje?:\\n\")\n",
        "\n",
        "while prompt != \"sair\":\n",
        "  response = chat.send_message(prompt)\n",
        "  print(\"T.IA: \",response.text,\"\\n\")\n",
        "  prompt = input(\"\")"
      ],
      "metadata": {
        "id": "raCLjcCGeKyX"
      },
      "execution_count": null,
      "outputs": []
    }
  ]
}